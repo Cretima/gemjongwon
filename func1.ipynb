{
 "cells": [
  {
   "cell_type": "code",
   "execution_count": 18,
   "metadata": {},
   "outputs": [],
   "source": [
    "import gradio as gr\n",
    "from dotenv import load_dotenv\n",
    "import urllib\n",
    "import google.generativeai as genai\n",
    "# 특정 문자열 추출을 위해 import\n",
    "import re\n",
    "\n",
    "load_dotenv() # load \"/.env\" file.\n",
    "genai.configure() # load GOOGLE_API_KEY from \"/.env\" file"
   ]
  },
  {
   "cell_type": "code",
   "execution_count": 19,
   "metadata": {},
   "outputs": [
    {
     "name": "stdout",
     "output_type": "stream",
     "text": [
      "Running on local URL:  http://127.0.0.1:7869\n",
      "\n",
      "To create a public link, set `share=True` in `launch()`.\n"
     ]
    },
    {
     "data": {
      "text/html": [
       "<div><iframe src=\"http://127.0.0.1:7869/\" width=\"100%\" height=\"500\" allow=\"autoplay; camera; microphone; clipboard-read; clipboard-write;\" frameborder=\"0\" allowfullscreen></iframe></div>"
      ],
      "text/plain": [
       "<IPython.core.display.HTML object>"
      ]
     },
     "metadata": {},
     "output_type": "display_data"
    }
   ],
   "source": [
    "# func1 - 조리 방법 알아내기\n",
    "## 사진을 넣으면, 출력으로 1.음식이름 2.필요한 재료 3.필요한 조리도구 4.조리 순서 5.kcal\n",
    "\n",
    "#  사진 분석 결과 출력을 위해 입력할 지문\n",
    "def description() :\n",
    "    txt = f\"사진 속 음식의 이름이 무엇이며 사진 속 음식을 만들기 위해 필요한 재료, 필요한 조리도구, 조리 순서 그리고 재료를 통해 사진 속 음식의 칼로리(kcal)를 예상하여 '음식이름', '재료', '조리도구', '조리순서', '칼로리' 총 5가지 항목으로 나누어 알려주세요.\"\n",
    "    return txt\n",
    "\n",
    "# 문장 추출을 위한 기준 인덱스 선정\n",
    "def find_index(text, index) :\n",
    "    text = text[index+2:] # \\n 두개 스킵\n",
    "    to_index = text.find(\"\\n\\n\")\n",
    "    return text, to_index\n",
    "\n",
    "# # 5개 출력\n",
    "# 음식 이름 추출\n",
    "def sep_foodName(text, index) :\n",
    "    name = text[:index].replace(\":\",\"\").split() # 1.문단 끝부분까지 string 가져오고, 2.':'있으면 제거하고 공백기준으로 리스트 형태로 분리\n",
    "    name = ' '.join(name[1:]) # 리스트->문자열로 변경하기 위해 join(e.g. [비빔, 밥]) / name[0]: 음식이름\n",
    "    return name\n",
    "\n",
    "# 재료 추출\n",
    "def sep_grad(text, index) :\n",
    "    # index 및 원하는 2번째 문장 찾기\n",
    "    text, to_index = find_index(text, index)\n",
    "    grad_part = text[:to_index] # 문단 끝부분까지 지문 가져오기\n",
    "    grad = grad_part[grad_part.find(\"\\n\")+1:]\n",
    "    return grad\n",
    "\n",
    "# 조리도구 추출\n",
    "def sep_equip(text, index) :\n",
    "    # index 및 원하는 3번째 문장 찾기\n",
    "    for i in range(2):\n",
    "        text, index = find_index(text, index)\n",
    "    equip_part = text[:index]\n",
    "    equip = equip_part[equip_part.find(\"\\n\")+1:]\n",
    "    return equip\n",
    "    \n",
    "# 조리순서 추출\n",
    "def sep_recipe(text, index) :\n",
    "    # index 및 원하는 4번째 문장 찾기\n",
    "    for i in range(3):\n",
    "        text, index = find_index(text, index)\n",
    "    recipe_part = text[:index]\n",
    "    recipe = recipe_part[recipe_part.find(\"\\n\")+1:]\n",
    "    return recipe\n",
    "\n",
    "# 칼로리 추출\n",
    "def sep_kcal(text, index) :\n",
    "    # index 및 원하는 5번째 문장 찾기\n",
    "    for i in range(4):\n",
    "        text, index = find_index(text, index)\n",
    "    kcal = text[:index].replace(\":\",\"\").split()\n",
    "    kcal = ' '.join(kcal[1:])\n",
    "    return kcal\n",
    "    \n",
    "# 프로세스\n",
    "def process(image) :\n",
    "    # gemnai 모델 불러오기\n",
    "    vmodel = genai.GenerativeModel('gemini-pro-vision')\n",
    "    # 프롬프트\n",
    "    prompt = description()\n",
    "    response = vmodel.generate_content([prompt, image])\n",
    "    \n",
    "    # 초기 문장 범위 설정\n",
    "    text = response.text.replace(\"**\", \"\") # 전체 특수 문자를 공백 대체\n",
    "    index = text.find(\"\\n\\n\") # 문단 끝 부분 찾기\n",
    "    \n",
    "    return sep_foodName(response.text, index), sep_grad(response.text, index), sep_equip(response.text, index), sep_recipe(response.text, index), sep_kcal(response.text, index)\n",
    "\n",
    "demo = gr.Interface(\n",
    "    fn=process, \n",
    "    inputs=[gr.Image(type=\"pil\")], \n",
    "    outputs=[\"text\", \"text\", \"text\", \"text\", \"text\"]\n",
    "\t)\n",
    "\n",
    "if __name__ == \"__main__\":\n",
    "    demo.launch()\n",
    "    "
   ]
  }
 ],
 "metadata": {
  "kernelspec": {
   "display_name": "pweb",
   "language": "python",
   "name": "python3"
  },
  "language_info": {
   "codemirror_mode": {
    "name": "ipython",
    "version": 3
   },
   "file_extension": ".py",
   "mimetype": "text/x-python",
   "name": "python",
   "nbconvert_exporter": "python",
   "pygments_lexer": "ipython3",
   "version": "3.11.5"
  }
 },
 "nbformat": 4,
 "nbformat_minor": 2
}
