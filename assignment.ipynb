{
 "cells": [
  {
   "cell_type": "code",
   "execution_count": null,
   "metadata": {},
   "outputs": [],
   "source": [
    "import gradio as gr\n",
    "from dotenv import load_dotenv\n",
    "import urllib\n",
    "import google.generativeai as genai\n",
    "\n",
    "load_dotenv() # load \"/.env\" file.\n",
    "\n",
    "genai.configure() # load GOOGLE_API_KEY from \"/.env\" file\n",
    "\n",
    "demo = gr.Interface()"
   ]
  }
 ],
 "metadata": {
  "language_info": {
   "name": "python"
  }
 },
 "nbformat": 4,
 "nbformat_minor": 2
}
