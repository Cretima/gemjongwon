{
 "cells": [
  {
   "cell_type": "code",
   "execution_count": null,
   "metadata": {},
   "outputs": [],
   "source": [
    "pip install dotenv"
   ]
  },
  {
   "cell_type": "code",
   "execution_count": 39,
   "metadata": {},
   "outputs": [
    {
     "name": "stdout",
     "output_type": "stream",
     "text": [
      "Running on local URL:  http://127.0.0.1:7897\n",
      "\n",
      "To create a public link, set `share=True` in `launch()`.\n"
     ]
    },
    {
     "data": {
      "text/html": [
       "<div><iframe src=\"http://127.0.0.1:7897/\" width=\"100%\" height=\"500\" allow=\"autoplay; camera; microphone; clipboard-read; clipboard-write;\" frameborder=\"0\" allowfullscreen></iframe></div>"
      ],
      "text/plain": [
       "<IPython.core.display.HTML object>"
      ]
     },
     "metadata": {},
     "output_type": "display_data"
    }
   ],
   "source": [
    "import gradio as gr\n",
    "from dotenv import load_dotenv\n",
    "import urllib\n",
    "import google.generativeai as genai\n",
    "\n",
    "load_dotenv() # load \"/.env\" file.\n",
    "\n",
    "genai.configure() # load GOOGLE_API_KEY from \"/.env\" file\n",
    "\n",
    "\n",
    "# 메인 페이지입니다.\n",
    "def main_page():\n",
    "    with gr.Column() as main_view:\n",
    "        gr.Markdown(\"## 메인 페이지\")\n",
    "        gr.Markdown(\"사진으로 음식을 알아보고 조리 과정을 알아보거나, 집에 있는 재료로 어떤 요리를 만들지 알아보세요!\")\n",
    "        cook_page_btn = gr.Button(\"사진으로 음식 알아보기\")\n",
    "        ingredient_btn = gr.Button(\"집에 있는 재료로 만들 수 있는 음식은?\")\n",
    "    return main_view, cook_page_btn, ingredient_btn\n",
    "\n",
    "# process\n",
    "def process(image, prompt) :\n",
    "    try:\n",
    "        vmodel = genai.GenerativeModel('gemini-pro-vision')\n",
    "        response = vmodel.generate_content([prompt, image])\n",
    "        return response.text\n",
    "    except Exception as e:\n",
    "        return f\"Error {e}\"\n",
    "\n",
    "# 조리 제조 과정 페이지. (기능 1)\n",
    "def cook_page():\n",
    "    with gr.Column(visible=False) as cook_page:\n",
    "        gr.Markdown(\"## 사진으로 음식을 알아보고 조리에 필요한 준비와 조리 과정을 알아보세요!\")\n",
    "        gr.Interface(process, [gr.Image(type=\"pil\"), \"text\"], \"text\")\n",
    "        cook_to_main_btn = gr.Button(\"메인 페이지로\")\n",
    "    return cook_page, cook_to_main_btn\n",
    "\n",
    "# 재료로 음식 추천 받기. (기능 2)\n",
    "def ingredient_page():\n",
    "    with gr.Column(visible=False) as ingredient_page:\n",
    "        gr.Markdown(\"## 집에 있는 재료로 어떤 음식을 만들 수 있는지 알아보세요!\")\n",
    "        ingredient_to_main_btn = gr.Button(\"메인 페이지로\")\n",
    "    return ingredient_page, ingredient_to_main_btn\n",
    "\n",
    "# MAIN FUNCITON #\n",
    "def main():\n",
    "    with gr.Blocks() as app:\n",
    "        main_view, cook_page_btn, ingredient_btn = main_page()\n",
    "        cook_view, cook_to_main_btn = cook_page()\n",
    "        ingredient_view, ingredient_to_main_btn= ingredient_page()\n",
    "\n",
    "        def gr_update(main_visible, cook_visible, ingredient_visible):\n",
    "            return gr.update(visible=main_visible), gr.update(visible=cook_visible), gr.update(visible=ingredient_visible)\n",
    "\n",
    "        def show_main_page():\n",
    "            return gr_update(True, False, False)\n",
    "        \n",
    "        def show_cook_page():\n",
    "            return gr_update(False, True, False)\n",
    "    \n",
    "        def show_ingredient_page():\n",
    "            return gr_update(False, False, True)\n",
    "        output = [main_view, cook_view, ingredient_view]\n",
    "\n",
    "        # button events\n",
    "        cook_page_btn.click(show_cook_page, [], output)\n",
    "        ingredient_btn.click(show_ingredient_page, [], output)\n",
    "        cook_to_main_btn.click(show_main_page, [], output)\n",
    "        ingredient_to_main_btn.click(show_main_page, [], output)\n",
    "        \n",
    "\n",
    "    app.launch()\n",
    "\n",
    "if __name__ == \"__main__\":\n",
    "    main()"
   ]
  }
 ],
 "metadata": {
  "kernelspec": {
   "display_name": "Python 3 (ipykernel)",
   "language": "python",
   "name": "python3"
  },
  "language_info": {
   "codemirror_mode": {
    "name": "ipython",
    "version": 3
   },
   "file_extension": ".py",
   "mimetype": "text/x-python",
   "name": "python",
   "nbconvert_exporter": "python",
   "pygments_lexer": "ipython3",
   "version": "3.11.7"
  }
 },
 "nbformat": 4,
 "nbformat_minor": 2
}
