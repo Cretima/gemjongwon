{
 "cells": [
  {
   "cell_type": "code",
   "execution_count": 1,
   "metadata": {},
   "outputs": [
    {
     "name": "stdout",
     "output_type": "stream",
     "text": [
      "Running on local URL:  http://127.0.0.1:7896\n",
      "\n",
      "To create a public link, set `share=True` in `launch()`.\n"
     ]
    },
    {
     "data": {
      "text/html": [
       "<div><iframe src=\"http://127.0.0.1:7896/\" width=\"100%\" height=\"500\" allow=\"autoplay; camera; microphone; clipboard-read; clipboard-write;\" frameborder=\"0\" allowfullscreen></iframe></div>"
      ],
      "text/plain": [
       "<IPython.core.display.HTML object>"
      ]
     },
     "metadata": {},
     "output_type": "display_data"
    },
    {
     "data": {
      "text/plain": []
     },
     "execution_count": 1,
     "metadata": {},
     "output_type": "execute_result"
    }
   ],
   "source": [
    "import gradio as gr\n",
    "from dotenv import load_dotenv\n",
    "import os\n",
    "import google.generativeai as genai\n",
    "\n",
    "# 환경 변수 로드\n",
    "load_dotenv()\n",
    "\n",
    "# API 키 설정\n",
    "api_key = os.getenv(\"GOOGLE_API_KEY\")\n",
    "genai.configure(api_key=api_key)\n",
    "\n",
    "def recommend_dishes(ingredients):\n",
    "    prompt = f\"주어진 재료들로 어떤 음식을 만들 수 있는지 한 줄로만 콤마(',')로 분리해서 출력해. `{ingredients}`\"\n",
    "    try:\n",
    "        model = genai.GenerativeModel(\"gemini-1.5-pro\")\n",
    "        response = model.generate_content(prompt)\n",
    "        # response = genai.generate_text(prompt=prompt, model=\"models/text-bison-001\")\n",
    "        # if response.result:\n",
    "        #     # dishes = response.result.split(\"\\n\")  # 음식 리스트를 줄바꿈으로 분리\n",
    "        #     # print(f\"Generated dishes: {dishes}\")  # 디버깅을 위한 출력\n",
    "        #     # return dishes\n",
    "        response_text = response.candidates[0].content.parts[0].text\n",
    "\n",
    "        # print(response_text)\n",
    "        # else:\n",
    "        #     print(\"No result from the API\")\n",
    "        #     return []\n",
    "        # 달걀, 파, 양파, 닭고기\n",
    "        print( [i.strip() for i in response_text.split(',')])\n",
    "        return [i.strip() for i in response_text.split(',')]\n",
    "    except Exception as e:\n",
    "        print(f\"Error in recommend_dishes: {e}\")  # 에러 메시지를 출력하여 디버깅에 도움을 줍니다.\n",
    "        return []\n",
    "\n",
    "def get_recipe(dish):\n",
    "    prompt = f\"`{dish}`을 어떻게 조리하는지 조리 과정을 설명해.\"\n",
    "    try:\n",
    "        model = genai.GenerativeModel(\"gemini-1.5-pro\")\n",
    "        response = model.generate_content(prompt)\n",
    "        if response:\n",
    "            return response.candidates[0].content.parts[0].text\n",
    "        else:\n",
    "            print(\"No result from the API for the recipe\")\n",
    "            return \"레시피를 가져오는 데 오류가 발생했습니다.\"\n",
    "    except Exception as e:\n",
    "        print(f\"Error in get_recipe: {e}\")  # 에러 메시지를 출력하여 디버깅에 도움을 줍니다.\n",
    "        return \"레시피를 가져오는 데 오류가 발생했습니다.\"\n",
    "\n",
    "# Gradio 인터페이스 설정\n",
    "with gr.Blocks() as demo:\n",
    "    gr.Markdown(\"### 음식 재료를 입력하면 만들 수 있는 음식을 추천해드립니다.\")\n",
    "\n",
    "    ingredients = gr.Textbox(label=\"음식 재료 (콤마로 구분)\")\n",
    "    output_dishes = gr.Dropdown(label=\"추천된 음식 리스트\", choices=[])\n",
    "    output_recipe = gr.Textbox(label=\"요리 레시피\", interactive=False)\n",
    "\n",
    "    recommend_button = gr.Button(\"음식 추천받기\")\n",
    "    get_recipe_button = gr.Button(\"레시피 확인\")\n",
    "\n",
    "    def update_dishes(ingredients):\n",
    "        dishes = recommend_dishes(ingredients)\n",
    "        if dishes:  # 리스트가 비어있지 않다면 업데이트\n",
    "            output_dishes.choices = dishes\n",
    "            output_dishes.value = dishes[0] if dishes else \"\"\n",
    "        else:  # 비어있다면 초기화\n",
    "            output_dishes.choices = []\n",
    "            output_dishes.value = \"\"\n",
    "        return gr.Dropdown(choices=dishes, interactive=True)\n",
    "        \n",
    "    # 음식 추천 버튼 클릭 시\n",
    "    recommend_button.click(fn=update_dishes, inputs=ingredients, outputs=output_dishes)\n",
    "    # 레시피 확인 버튼 클릭 시\n",
    "    get_recipe_button.click(fn=get_recipe, inputs=output_dishes, outputs=output_recipe)\n",
    "\n",
    "demo.launch()\n"
   ]
  }
 ],
 "metadata": {
  "kernelspec": {
   "display_name": "Python 3 (ipykernel)",
   "language": "python",
   "name": "python3"
  },
  "language_info": {
   "codemirror_mode": {
    "name": "ipython",
    "version": 3
   },
   "file_extension": ".py",
   "mimetype": "text/x-python",
   "name": "python",
   "nbconvert_exporter": "python",
   "pygments_lexer": "ipython3",
   "version": "3.11.7"
  }
 },
 "nbformat": 4,
 "nbformat_minor": 2
}
